{
 "cells": [
  {
   "cell_type": "code",
   "execution_count": null,
   "id": "03eae0cb-f4de-4dcb-8c81-9f6baecec2e5",
   "metadata": {},
   "outputs": [],
   "source": [
    "# Insight 1\n",
    "# Em qual competição internacional o Brasil é mais vitorioso (por índice de vitórias / jogos competidos)?\n",
    "%run insights1.py"
   ]
  },
  {
   "cell_type": "code",
   "execution_count": null,
   "id": "84f23e4c-fb8b-4779-9a21-2786f5bc3d2d",
   "metadata": {},
   "outputs": [],
   "source": [
    "# Insight 2\n",
    "# Qual o time mais vitorioso em cada competição internacional?\n",
    "%run insights2.py"
   ]
  },
  {
   "cell_type": "code",
   "execution_count": null,
   "id": "2f5e4dd6-7359-4e2b-ba44-021886b7fca1",
   "metadata": {},
   "outputs": [],
   "source": [
    "# Insight 3\n",
    "# Qual a década mais vitoriosa do Brasil, incluindo amistosos?\n",
    "%run insights3.py\n"
   ]
  },
  {
   "cell_type": "code",
   "execution_count": null,
   "id": "663a94c4-56f9-4cc0-bd84-8b2ed78c0dbe",
   "metadata": {},
   "outputs": [],
   "source": [
    "# Insight 4\n",
    "# Qual time mais venceu o Brasil (incluindo amistosos)?\n",
    "%run insights4.py\n"
   ]
  },
  {
   "cell_type": "code",
   "execution_count": null,
   "id": "3a45f153-87df-4d0e-8547-da000f8cf3bd",
   "metadata": {},
   "outputs": [],
   "source": [
    "# Insight 5\n",
    "# Qual jogador brasileiro fez mais gols de penalti?\n",
    "%run insights5.py\n"
   ]
  },
  {
   "cell_type": "code",
   "execution_count": null,
   "id": "2dba6d96-8da8-41ea-83cc-4c0e0e3696c0",
   "metadata": {},
   "outputs": [],
   "source": [
    "# Insight 6\n",
    "# Quais os 5 times que mais tomaram gols do Brasil? \n",
    "%run insights6.py\n"
   ]
  }
 ],
 "metadata": {
  "kernelspec": {
   "display_name": "Python 3 (ipykernel)",
   "language": "python",
   "name": "python3"
  },
  "language_info": {
   "codemirror_mode": {
    "name": "ipython",
    "version": 3
   },
   "file_extension": ".py",
   "mimetype": "text/x-python",
   "name": "python",
   "nbconvert_exporter": "python",
   "pygments_lexer": "ipython3",
   "version": "3.11.9"
  }
 },
 "nbformat": 4,
 "nbformat_minor": 5
}
